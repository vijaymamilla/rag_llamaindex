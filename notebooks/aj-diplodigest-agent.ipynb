{
 "cells": [
  {
   "cell_type": "markdown",
   "metadata": {},
   "source": [
    "# Document Loading & Retrieval\n",
    "\n",
    "\n"
   ]
  },
  {
   "cell_type": "markdown",
   "metadata": {},
   "source": [
    "This implementation is based on:\n",
    "\n",
    "- PyPDF - PDF Document Parsing\n",
    "- Llama Index - Document Loading & Retrieval\n",
    "- Weaviate - Vector Storage\n",
    "- Neo4J - Graph Database\n",
    "- Redis - Ingestion Cache & Document Storage\n",
    "- OpenAI - Large Language Models\n"
   ]
  },
  {
   "cell_type": "code",
   "execution_count": 1,
   "metadata": {},
   "outputs": [
    {
     "ename": "ModuleNotFoundError",
     "evalue": "No module named 'diplodigst'",
     "output_type": "error",
     "traceback": [
      "\u001b[0;31m---------------------------------------------------------------------------\u001b[0m",
      "\u001b[0;31mModuleNotFoundError\u001b[0m                       Traceback (most recent call last)",
      "Cell \u001b[0;32mIn[1], line 13\u001b[0m\n\u001b[1;32m     10\u001b[0m \u001b[38;5;28;01mfrom\u001b[39;00m \u001b[38;5;21;01mllama_index\u001b[39;00m\u001b[38;5;21;01m.\u001b[39;00m\u001b[38;5;21;01mtools\u001b[39;00m \u001b[38;5;28;01mimport\u001b[39;00m QueryEngineTool, ToolMetadata\n\u001b[1;32m     11\u001b[0m \u001b[38;5;28;01mfrom\u001b[39;00m \u001b[38;5;21;01mllama_index\u001b[39;00m\u001b[38;5;21;01m.\u001b[39;00m\u001b[38;5;21;01mvector_stores\u001b[39;00m\u001b[38;5;21;01m.\u001b[39;00m\u001b[38;5;21;01mtypes\u001b[39;00m \u001b[38;5;28;01mimport\u001b[39;00m VectorStoreQueryMode\n\u001b[0;32m---> 13\u001b[0m \u001b[38;5;28;01mfrom\u001b[39;00m \u001b[38;5;21;01mdiplodigst\u001b[39;00m\u001b[38;5;21;01m.\u001b[39;00m\u001b[38;5;21;01mconfig\u001b[39;00m \u001b[38;5;28;01mimport\u001b[39;00m DiploConfig\n\u001b[1;32m     14\u001b[0m \u001b[38;5;28;01mfrom\u001b[39;00m \u001b[38;5;21;01mdiplodigst\u001b[39;00m\u001b[38;5;21;01m.\u001b[39;00m\u001b[38;5;21;01mtools\u001b[39;00m \u001b[38;5;28;01mimport\u001b[39;00m DiploDocLoader, DiploDocRetriever\n\u001b[1;32m     15\u001b[0m \u001b[38;5;28;01mfrom\u001b[39;00m \u001b[38;5;21;01mdiplodigst\u001b[39;00m\u001b[38;5;21;01m.\u001b[39;00m\u001b[38;5;21;01mtypes\u001b[39;00m \u001b[38;5;28;01mimport\u001b[39;00m DiploIndex\n",
      "\u001b[0;31mModuleNotFoundError\u001b[0m: No module named 'diplodigst'"
     ]
    }
   ],
   "source": [
    "from pprint import pprint\n",
    "\n",
    "from llama_index.agent import OpenAIAgent\n",
    "from llama_index.embeddings import OpenAIEmbedding\n",
    "from llama_index.indices.knowledge_graph.retrievers import KGRetrieverMode\n",
    "from llama_index.llms import OpenAI\n",
    "from llama_index.query_engine import SubQuestionQueryEngine\n",
    "from llama_index.response.schema import Response\n",
    "from llama_index.response_synthesizers.type import ResponseMode\n",
    "from llama_index.tools import QueryEngineTool, ToolMetadata\n",
    "from llama_index.vector_stores.types import VectorStoreQueryMode\n",
    "\n",
    "from diplodigst.config import DiploConfig\n",
    "from diplodigst.tools import DiploDocLoader, DiploDocRetriever\n",
    "from diplodigst.types import DiploIndex"
   ]
  },
  {
   "cell_type": "code",
   "execution_count": 2,
   "metadata": {},
   "outputs": [],
   "source": [
    "diplo_config = DiploConfig()"
   ]
  },
  {
   "cell_type": "code",
   "execution_count": 3,
   "metadata": {},
   "outputs": [],
   "source": [
    "# initialise embed model\n",
    "llm_model = OpenAI(api_key=diplo_config.OPENAI_API_KEY)\n",
    "embed_model = OpenAIEmbedding(api_key=diplo_config.OPENAI_API_KEY)"
   ]
  },
  {
   "cell_type": "code",
   "execution_count": 4,
   "metadata": {},
   "outputs": [
    {
     "name": "stdout",
     "output_type": "stream",
     "text": [
      "[ INFO ] Initializing vector store\n",
      "[ INFO ] Vector store initialized\n",
      "[ INFO ] Initializing graph store\n",
      "[ INFO ] Graph store initialized\n",
      "[ INFO ] Initializing document store\n",
      "[ INFO ] Document store initialized\n",
      "[ INFO ] Initializing index store\n",
      "[ INFO ] Index store initialized\n",
      "[ INFO ] Initializing ingestion cache\n",
      "[ INFO ] Ingestion cache initialized\n",
      "[ INFO ] Initializing LLM and embedding models\n",
      "[ INFO ] LLM and embedding models initialized\n",
      "[ INFO ] Initializing service context\n",
      "[ INFO ] Service context initialized\n",
      "[ INFO ] Initializing storage context\n",
      "[ INFO ] Storage context initialized\n",
      "[ INFO ] Initializing ingestion pipeline\n",
      "[ INFO ] Ingestion pipeline initialized\n"
     ]
    }
   ],
   "source": [
    "# initialise document loader\n",
    "doc_loader = DiploDocLoader(\n",
    "    embed_model=embed_model,\n",
    "    llm_model=llm_model,\n",
    "    weaviate_host=diplo_config.WEAVIATE_HOST,\n",
    "    weaviate_port=diplo_config.WEAVIATE_PORT,\n",
    "    redis_host=diplo_config.REDIS_HOST,\n",
    "    redis_port=diplo_config.REDIS_PORT,\n",
    "    neo4j_host=diplo_config.NEO4J_HOST,\n",
    "    neo4j_port=diplo_config.NEO4J_PORT,\n",
    "    neo4j_username=diplo_config.NEO4J_USERNAME,\n",
    "    neo4j_password=diplo_config.NEO4J_PASSWORD,\n",
    "    name=diplo_config.PROJECT_NAME,\n",
    "    chunk_size=500,\n",
    "    chunk_overlap=25,\n",
    "    verbose=True,\n",
    ")"
   ]
  },
  {
   "cell_type": "code",
   "execution_count": 5,
   "metadata": {},
   "outputs": [
    {
     "name": "stdout",
     "output_type": "stream",
     "text": [
      "[ INFO ] Loading vector index\n",
      "[ INFO ] Vector index loaded\n",
      "[ INFO ] Loading knowledge graph index\n",
      "[ INFO ] Knowledge graph index loaded\n"
     ]
    }
   ],
   "source": [
    "# load documents index\n",
    "doc_index: DiploIndex = doc_loader.load()"
   ]
  },
  {
   "cell_type": "code",
   "execution_count": 6,
   "metadata": {},
   "outputs": [],
   "source": [
    "context_query_engine = QueryEngineTool(\n",
    "    query_engine=doc_index.vector.as_query_engine(similarity_top_k=3),\n",
    "    metadata=ToolMetadata(\n",
    "        name=\"context_query_engine\",\n",
    "        description=(\n",
    "            \"Provides information for a query from documents.\"\n",
    "            \"Use a question as input to the tool.\"\n",
    "        ),\n",
    "    ),\n",
    ")\n",
    "\n",
    "knowledge_query_engine = QueryEngineTool(\n",
    "    query_engine=doc_index.graph.as_query_engine(similarity_top_k=3),\n",
    "    metadata=ToolMetadata(\n",
    "        name=\"knowledge_query_engine\",\n",
    "        description=(\n",
    "            \"Provides information for a query from documents.\"\n",
    "            \"Use a question as input to the tool.\"\n",
    "        ),\n",
    "    ),\n",
    ")"
   ]
  },
  {
   "cell_type": "code",
   "execution_count": 7,
   "metadata": {},
   "outputs": [],
   "source": [
    "diplo_knowledge_agent: OpenAIAgent = OpenAIAgent.from_tools(\n",
    "    tools=[knowledge_query_engine],\n",
    "    verbose=True,\n",
    ")\n",
    "\n",
    "diplo_context_agent: OpenAIAgent = OpenAIAgent.from_tools(\n",
    "    tools=[context_query_engine],\n",
    "    verbose=True,\n",
    ")"
   ]
  },
  {
   "cell_type": "code",
   "execution_count": 8,
   "metadata": {},
   "outputs": [
    {
     "name": "stdout",
     "output_type": "stream",
     "text": [
      "===== Entering Chat REPL =====\n",
      "Type \"exit\" to exit.\n",
      "\n",
      "Added user message to memory: \n",
      "Assistant: How can I use the knowledge query engine tool?\n",
      "\n"
     ]
    }
   ],
   "source": [
    "diplo_knowledge_agent.chat_repl()"
   ]
  },
  {
   "cell_type": "code",
   "execution_count": 12,
   "metadata": {},
   "outputs": [
    {
     "name": "stdout",
     "output_type": "stream",
     "text": [
      "===== Entering Chat REPL =====\n",
      "Type \"exit\" to exit.\n",
      "\n",
      "Added user message to memory: Hello\n",
      "Assistant: Hi there! How can I assist you today?\n",
      "\n",
      "Added user message to memory: What are the commitments of Switzerland to the global digital compact?\n",
      "=== Calling Function ===\n",
      "Calling function: context_query_engine with args: {\n",
      "  \"input\": \"commitments of Switzerland to the global digital compact\"\n",
      "}\n",
      "Got output: Switzerland commits to further supporting efforts to address connectivity issues, such as through the GIGA Initiative and other efforts undertaken by ITU, UNESCO, and other UN institutions. Switzerland also commits to further international discussions and best practices on enabling environments for the deployment of broadband. Additionally, Switzerland supports Access Now's campaign to prevent internet shutdowns and the 2023 conference on digital rights, Rightscon. Switzerland attaches great importance to the fight against online discrimination and the distribution of misleading content and commits to support efforts to increase accountability for discrimination and misleading content while protecting human and fundamental rights. Switzerland will contribute as a member of the Catalyst Group to UNESCO efforts for an Internet for Trust.\n",
      "========================\n",
      "\n",
      "Assistant: Switzerland's commitments to the global digital compact include:\n",
      "\n",
      "1. Supporting efforts to address connectivity issues: Switzerland is committed to supporting initiatives such as the GIGA Initiative and other efforts undertaken by the International Telecommunication Union (ITU), United Nations Educational, Scientific and Cultural Organization (UNESCO), and other UN institutions to address connectivity challenges.\n",
      "\n",
      "2. Promoting discussions and best practices for broadband deployment: Switzerland is committed to participating in international discussions and sharing best practices to create enabling environments for the deployment of broadband infrastructure.\n",
      "\n",
      "3. Preventing internet shutdowns: Switzerland supports Access Now's campaign to prevent internet shutdowns, which are often used as a means of suppressing freedom of expression and violating human rights.\n",
      "\n",
      "4. Promoting digital rights: Switzerland is committed to supporting the 2023 conference on digital rights, Rightscon, which aims to address various issues related to digital rights and freedoms.\n",
      "\n",
      "5. Combating online discrimination and misleading content: Switzerland recognizes the importance of fighting against online discrimination and the distribution of misleading content. It commits to supporting efforts that increase accountability for discrimination and misleading content while protecting human and fundamental rights.\n",
      "\n",
      "6. Contributing to an Internet for Trust: Switzerland will contribute as a member of the Catalyst Group to UNESCO's efforts for an Internet for Trust, which aims to promote a safe, secure, and trustworthy digital environment.\n",
      "\n",
      "These commitments reflect Switzerland's dedication to promoting digital connectivity, protecting digital rights, and ensuring a safe and inclusive digital future.\n",
      "\n",
      "Added user message to memory: Can show me comparison between switzerland and singapore contribution when it comes to inclusiveness\n",
      "=== Calling Function ===\n",
      "Calling function: context_query_engine with args: {\n",
      "  \"input\": \"comparison between Switzerland and Singapore contribution to inclusiveness\"\n",
      "}\n",
      "Got output: Both Switzerland and Singapore emphasize the importance of inclusiveness in their contributions to the digital realm. Singapore highlights the need for interoperability between different national systems to enable communication and data flow between countries. They also promote digital skills and literacy for citizens of all ages, ensuring that inclusively designed digital services are accessible to all. Singapore hopes to establish partnerships with as many countries as possible to enhance inclusivity.\n",
      "\n",
      "Similarly, Switzerland recognizes the significance of digital literacy and awareness, as well as the need for an inclusive digital transformation. They emphasize the participation of all stakeholder groups in governance processes and institutions. Switzerland also supports initiatives and projects that bridge the digital divide, enabling developing countries to utilize digital technologies and integrate into the global economy.\n",
      "\n",
      "Both countries prioritize inclusiveness and strive to enhance access, skills, and participation in the digital sphere.\n",
      "========================\n",
      "\n",
      "Assistant: Both Switzerland and Singapore place a strong emphasis on inclusiveness in their contributions to the digital realm. Here is a comparison of their efforts:\n",
      "\n",
      "1. Interoperability: Singapore emphasizes the importance of interoperability between different national systems to enable seamless communication and data flow between countries. This promotes inclusiveness by ensuring that digital services can be accessed and utilized across borders. Switzerland also recognizes the need for interoperability and supports initiatives that bridge the digital divide, enabling developing countries to leverage digital technologies and participate in the global economy.\n",
      "\n",
      "2. Digital Skills and Literacy: Singapore places a significant focus on promoting digital skills and literacy for citizens of all ages. They aim to ensure that inclusively designed digital services are accessible to all, regardless of their level of digital proficiency. Switzerland also recognizes the importance of digital literacy and awareness, supporting initiatives that enhance digital skills and knowledge among its population.\n",
      "\n",
      "3. Partnerships: Singapore seeks to establish partnerships with as many countries as possible to enhance inclusivity. By collaborating with other nations, they aim to share best practices, exchange knowledge, and collectively address digital inclusion challenges. Switzerland also emphasizes the participation of all stakeholder groups in governance processes and institutions, fostering collaboration and partnerships to promote inclusiveness.\n",
      "\n",
      "Both Switzerland and Singapore prioritize inclusiveness in their digital strategies, focusing on enhancing access, skills, and participation in the digital sphere. They recognize the importance of bridging the digital divide and ensuring that digital technologies are accessible and beneficial to all individuals and communities.\n",
      "\n"
     ]
    }
   ],
   "source": [
    "diplo_context_agent.chat_repl()"
   ]
  },
  {
   "cell_type": "code",
   "execution_count": null,
   "metadata": {},
   "outputs": [],
   "source": []
  }
 ],
 "metadata": {
  "kernelspec": {
   "display_name": ".venv",
   "language": "python",
   "name": "python3"
  },
  "language_info": {
   "codemirror_mode": {
    "name": "ipython",
    "version": 3
   },
   "file_extension": ".py",
   "mimetype": "text/x-python",
   "name": "python",
   "nbconvert_exporter": "python",
   "pygments_lexer": "ipython3",
   "version": "3.11.5"
  }
 },
 "nbformat": 4,
 "nbformat_minor": 2
}
