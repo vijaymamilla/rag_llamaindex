{
 "cells": [
  {
   "cell_type": "markdown",
   "metadata": {},
   "source": [
    "# Document Loading & Retrieval\n",
    "\n",
    "Author: [Abdulazeez Jimoh](https://github.com/abdulazeezoj)\n"
   ]
  },
  {
   "cell_type": "markdown",
   "metadata": {},
   "source": [
    "This implementation is based on:\n",
    "\n",
    "- PyPDF - PDF Document Parsing\n",
    "- Llama Index - Document Loading & Retrieval\n",
    "- Weaviate - Vector Storage\n",
    "- Neo4J - Graph Database\n",
    "- Redis - Ingestion Cache & Document Storage\n",
    "- OpenAI - Large Language Models\n"
   ]
  },
  {
   "cell_type": "code",
   "execution_count": 2,
   "metadata": {},
   "outputs": [],
   "source": [
    "from pprint import pprint\n",
    "\n",
    "from llama_index.agent import OpenAIAgent\n",
    "from llama_index.embeddings import OpenAIEmbedding\n",
    "from llama_index.indices.knowledge_graph.retrievers import KGRetrieverMode\n",
    "from llama_index.llms import OpenAI\n",
    "from llama_index.query_engine import SubQuestionQueryEngine\n",
    "from llama_index.response.schema import Response\n",
    "from llama_index.response_synthesizers.type import ResponseMode\n",
    "from llama_index.tools import QueryEngineTool, ToolMetadata\n",
    "from llama_index.vector_stores.types import VectorStoreQueryMode\n",
    "\n",
    "from diplodigst.config import DiploConfig\n",
    "from diplodigst.tools import DiploDocLoader, DiploDocRetriever\n",
    "from diplodigst.types import DiploIndex"
   ]
  },
  {
   "cell_type": "code",
   "execution_count": 3,
   "metadata": {},
   "outputs": [],
   "source": [
    "diplo_config = DiploConfig()"
   ]
  },
  {
   "cell_type": "code",
   "execution_count": 4,
   "metadata": {},
   "outputs": [],
   "source": [
    "# initialise embed model\n",
    "llm_model = OpenAI(api_key=diplo_config.OPENAI_API_KEY)\n",
    "embed_model = OpenAIEmbedding(api_key=diplo_config.OPENAI_API_KEY)"
   ]
  },
  {
   "cell_type": "code",
   "execution_count": 5,
   "metadata": {},
   "outputs": [
    {
     "name": "stdout",
     "output_type": "stream",
     "text": [
      "[ INFO ] Initializing vector store\n",
      "[ INFO ] Vector store initialized\n",
      "[ INFO ] Initializing graph store\n",
      "[ INFO ] Graph store initialized\n",
      "[ INFO ] Initializing document store\n",
      "[ INFO ] Document store initialized\n",
      "[ INFO ] Initializing index store\n",
      "[ INFO ] Index store initialized\n",
      "[ INFO ] Initializing ingestion cache\n",
      "[ INFO ] Ingestion cache initialized\n",
      "[ INFO ] Initializing LLM and embedding models\n",
      "[ INFO ] LLM and embedding models initialized\n",
      "[ INFO ] Initializing service context\n",
      "[ INFO ] Service context initialized\n",
      "[ INFO ] Initializing storage context\n",
      "[ INFO ] Storage context initialized\n",
      "[ INFO ] Initializing ingestion pipeline\n",
      "[ INFO ] Ingestion pipeline initialized\n"
     ]
    }
   ],
   "source": [
    "# initialise document loader\n",
    "doc_loader = DiploDocLoader(\n",
    "    embed_model=embed_model,\n",
    "    llm_model=llm_model,\n",
    "    weaviate_host=diplo_config.WEAVIATE_HOST,\n",
    "    weaviate_port=diplo_config.WEAVIATE_PORT,\n",
    "    redis_host=diplo_config.REDIS_HOST,\n",
    "    redis_port=diplo_config.REDIS_PORT,\n",
    "    neo4j_host=diplo_config.NEO4J_HOST,\n",
    "    neo4j_port=diplo_config.NEO4J_PORT,\n",
    "    neo4j_username=diplo_config.NEO4J_USERNAME,\n",
    "    neo4j_password=diplo_config.NEO4J_PASSWORD,\n",
    "    name=diplo_config.PROJECT_NAME,\n",
    "    chunk_size=500,\n",
    "    chunk_overlap=25,\n",
    "    verbose=True,\n",
    ")"
   ]
  },
  {
   "cell_type": "code",
   "execution_count": 6,
   "metadata": {},
   "outputs": [
    {
     "name": "stdout",
     "output_type": "stream",
     "text": [
      "[ INFO ] Loading vector index\n",
      "[ INFO ] Vector index loaded\n",
      "[ INFO ] Loading knowledge graph index\n",
      "[ INFO ] Knowledge graph index loaded\n"
     ]
    }
   ],
   "source": [
    "# load documents index\n",
    "doc_index: DiploIndex = doc_loader.load()"
   ]
  },
  {
   "cell_type": "code",
   "execution_count": 10,
   "metadata": {},
   "outputs": [],
   "source": [
    "context_query_engine = QueryEngineTool(\n",
    "    query_engine=doc_index.vector.as_query_engine(similarity_top_k=3),\n",
    "    metadata=ToolMetadata(\n",
    "        name=\"context_query_engine\",\n",
    "        description=(\n",
    "            \"Provides information for a query from documents.\"\n",
    "            \"Use a question as input to the tool.\"\n",
    "        ),\n",
    "    ),\n",
    ")\n",
    "\n",
    "knowledge_query_engine = QueryEngineTool(\n",
    "    query_engine=doc_index.graph.as_query_engine(similarity_top_k=3),\n",
    "    metadata=ToolMetadata(\n",
    "        name=\"knowledge_query_engine\",\n",
    "        description=(\n",
    "            \"Provides information for a query from documents.\"\n",
    "            \"Use a question as input to the tool.\"\n",
    "        ),\n",
    "    ),\n",
    ")"
   ]
  },
  {
   "cell_type": "code",
   "execution_count": 11,
   "metadata": {},
   "outputs": [],
   "source": [
    "diplo_knowledge_agent: OpenAIAgent = OpenAIAgent.from_tools(\n",
    "    tools=[knowledge_query_engine],\n",
    "    verbose=True,\n",
    ")\n",
    "\n",
    "diplo_context_agent: OpenAIAgent = OpenAIAgent.from_tools(\n",
    "    tools=[context_query_engine],\n",
    "    verbose=True,\n",
    ")"
   ]
  },
  {
   "cell_type": "code",
   "execution_count": 9,
   "metadata": {},
   "outputs": [
    {
     "name": "stdout",
     "output_type": "stream",
     "text": [
      "===== Entering Chat REPL =====\n",
      "Type \"exit\" to exit.\n",
      "\n",
      "Added user message to memory: Hello\n",
      "Assistant: Hi there! How can I assist you today?\n",
      "\n",
      "Added user message to memory: What are the commitments of Switzerland to the global digital compact?\n",
      "=== Calling Function ===\n",
      "Calling function: knowledge_query_engine with args: {\n",
      "  \"input\": \"commitments of Switzerland to the global digital compact\"\n",
      "}\n",
      "Got output: Switzerland's commitments to the global digital compact include actively supporting the development of interoperable trustworthy data spaces and exploring further processes and policies. The country is committed to making digital self-determination a reality and has supported OHCHR's B-tech project. Switzerland is also a member of the Freedom Online Coalition and attaches importance to the fight against online discrimination and the distribution of misleading content. Additionally, Switzerland chairs a committee aiming to negotiate a framework convention and supports the AI for Good Global Summit, which will take place in Geneva.\n",
      "========================\n",
      "\n",
      "Assistant: Switzerland has made several commitments to the global digital compact. These commitments include:\n",
      "\n",
      "1. Supporting the development of interoperable trustworthy data spaces: Switzerland is actively involved in promoting the development of data spaces that are secure, interoperable, and trustworthy. This involves ensuring that data can be shared and utilized across different platforms and systems while maintaining privacy and security.\n",
      "\n",
      "2. Exploring further processes and policies: Switzerland is committed to continuously exploring and improving processes and policies related to the digital realm. This includes staying up to date with technological advancements and adapting regulations and frameworks accordingly.\n",
      "\n",
      "3. Promoting digital self-determination: Switzerland aims to make digital self-determination a reality for individuals and organizations. This involves empowering individuals to have control over their personal data and ensuring that they have the freedom to make choices regarding their digital presence.\n",
      "\n",
      "4. Supporting OHCHR's B-tech project: Switzerland has shown support for the B-tech project initiated by the Office of the United Nations High Commissioner for Human Rights (OHCHR). This project focuses on the intersection of human rights and technology, aiming to address the challenges and opportunities that arise in the digital age.\n",
      "\n",
      "5. Membership in the Freedom Online Coalition: Switzerland is a member of the Freedom Online Coalition, an intergovernmental coalition that promotes and protects human rights online. The coalition works towards ensuring that the internet remains open, secure, and accessible for all individuals.\n",
      "\n",
      "6. Combating online discrimination and misleading content: Switzerland attaches great importance to fighting against online discrimination and the distribution of misleading content. The country is committed to promoting a safe and inclusive digital environment that respects the rights and dignity of all individuals.\n",
      "\n",
      "7. Chairing a committee for negotiating a framework convention: Switzerland chairs a committee that aims to negotiate a framework convention on matters related to the digital realm. This demonstrates the country's commitment to international cooperation and the development of global standards in the digital space.\n",
      "\n",
      "8. Supporting the AI for Good Global Summit: Switzerland actively supports the AI for Good Global Summit, an annual event held in Geneva. The summit brings together stakeholders from various sectors to discuss and explore the potential of artificial intelligence (AI) for addressing global challenges and advancing sustainable development.\n",
      "\n",
      "These commitments reflect Switzerland's dedication to promoting a responsible and inclusive digital future at both national and international levels.\n",
      "\n",
      "Added user message to memory: Can show me comparison between switzerland and singapore contribution when it comes to inclusiveness\n",
      "=== Calling Function ===\n",
      "Calling function: knowledge_query_engine with args: {\n",
      "  \"input\": \"comparison of Switzerland and Singapore contribution to inclusiveness\"\n",
      "}\n",
      "Got output: Switzerland and Singapore have made significant contributions to inclusiveness within the Global Digital Compact. Switzerland prioritizes the establishment of reliable data spaces and promotes inclusiveness through interoperability. They advocate for accountability to address discrimination and misleading content online. Singapore, on the other hand, emphasizes the importance of interoperability in achieving global inclusiveness. They highlight the need for secure data transfer across borders while safeguarding personal data. Both countries recognize the significance of inclusiveness and contribute in unique ways to different aspects of it in their respective engagements.\n",
      "========================\n",
      "\n",
      "Assistant: Switzerland and Singapore have both made notable contributions to inclusiveness within the Global Digital Compact, although they approach it from slightly different perspectives. Here is a comparison of their contributions:\n",
      "\n",
      "Switzerland:\n",
      "- Reliable Data Spaces: Switzerland actively supports the development of interoperable trustworthy data spaces. They recognize the importance of creating data spaces that are reliable and secure, enabling the sharing and utilization of data across different platforms and systems.\n",
      "- Accountability: Switzerland attaches great importance to combating online discrimination and the distribution of misleading content. They advocate for accountability measures to address these issues and promote a safe and inclusive digital environment.\n",
      "\n",
      "Singapore:\n",
      "- Interoperability: Singapore emphasizes the importance of interoperability in achieving global inclusiveness. They recognize that seamless and secure data transfer across borders is crucial for fostering inclusiveness in the digital realm.\n",
      "- Personal Data Protection: Singapore places a strong emphasis on safeguarding personal data while promoting inclusiveness. They prioritize the development of robust data protection frameworks to ensure that individuals' personal data is handled securely.\n",
      "\n",
      "Both Switzerland and Singapore recognize the significance of inclusiveness and contribute in unique ways to different aspects of it in their respective engagements. Switzerland focuses on the establishment of reliable data spaces and the fight against discrimination and misleading content, while Singapore emphasizes interoperability and personal data protection. These contributions reflect their commitment to creating an inclusive digital environment that respects individuals' rights and promotes global cooperation.\n",
      "\n"
     ]
    }
   ],
   "source": [
    "diplo_knowledge_agent.chat_repl()"
   ]
  },
  {
   "cell_type": "code",
   "execution_count": 12,
   "metadata": {},
   "outputs": [
    {
     "name": "stdout",
     "output_type": "stream",
     "text": [
      "===== Entering Chat REPL =====\n",
      "Type \"exit\" to exit.\n",
      "\n",
      "Added user message to memory: Hello\n",
      "Assistant: Hi there! How can I assist you today?\n",
      "\n",
      "Added user message to memory: What are the commitments of Switzerland to the global digital compact?\n",
      "=== Calling Function ===\n",
      "Calling function: context_query_engine with args: {\n",
      "  \"input\": \"commitments of Switzerland to the global digital compact\"\n",
      "}\n",
      "Got output: Switzerland commits to further supporting efforts to address connectivity issues, such as through the GIGA Initiative and other efforts undertaken by ITU, UNESCO, and other UN institutions. Switzerland also commits to further international discussions and best practices on enabling environments for the deployment of broadband. Additionally, Switzerland supports Access Now's campaign to prevent internet shutdowns and the 2023 conference on digital rights, Rightscon. Switzerland attaches great importance to the fight against online discrimination and the distribution of misleading content and commits to support efforts to increase accountability for discrimination and misleading content while protecting human and fundamental rights. Switzerland will contribute as a member of the Catalyst Group to UNESCO efforts for an Internet for Trust.\n",
      "========================\n",
      "\n",
      "Assistant: Switzerland's commitments to the global digital compact include:\n",
      "\n",
      "1. Supporting efforts to address connectivity issues: Switzerland is committed to supporting initiatives such as the GIGA Initiative and other efforts undertaken by the International Telecommunication Union (ITU), United Nations Educational, Scientific and Cultural Organization (UNESCO), and other UN institutions to address connectivity challenges.\n",
      "\n",
      "2. Promoting discussions and best practices for broadband deployment: Switzerland is committed to participating in international discussions and sharing best practices to create enabling environments for the deployment of broadband infrastructure.\n",
      "\n",
      "3. Preventing internet shutdowns: Switzerland supports Access Now's campaign to prevent internet shutdowns, which are often used as a means of suppressing freedom of expression and violating human rights.\n",
      "\n",
      "4. Promoting digital rights: Switzerland is committed to supporting the 2023 conference on digital rights, Rightscon, which aims to address various issues related to digital rights and freedoms.\n",
      "\n",
      "5. Combating online discrimination and misleading content: Switzerland recognizes the importance of fighting against online discrimination and the distribution of misleading content. It commits to supporting efforts that increase accountability for discrimination and misleading content while protecting human and fundamental rights.\n",
      "\n",
      "6. Contributing to an Internet for Trust: Switzerland will contribute as a member of the Catalyst Group to UNESCO's efforts for an Internet for Trust, which aims to promote a safe, secure, and trustworthy digital environment.\n",
      "\n",
      "These commitments reflect Switzerland's dedication to promoting digital connectivity, protecting digital rights, and ensuring a safe and inclusive digital future.\n",
      "\n",
      "Added user message to memory: Can show me comparison between switzerland and singapore contribution when it comes to inclusiveness\n",
      "=== Calling Function ===\n",
      "Calling function: context_query_engine with args: {\n",
      "  \"input\": \"comparison between Switzerland and Singapore contribution to inclusiveness\"\n",
      "}\n",
      "Got output: Both Switzerland and Singapore emphasize the importance of inclusiveness in their contributions to the digital realm. Singapore highlights the need for interoperability between different national systems to enable communication and data flow between countries. They also promote digital skills and literacy for citizens of all ages, ensuring that inclusively designed digital services are accessible to all. Singapore hopes to establish partnerships with as many countries as possible to enhance inclusivity.\n",
      "\n",
      "Similarly, Switzerland recognizes the significance of digital literacy and awareness, as well as the need for an inclusive digital transformation. They emphasize the participation of all stakeholder groups in governance processes and institutions. Switzerland also supports initiatives and projects that bridge the digital divide, enabling developing countries to utilize digital technologies and integrate into the global economy.\n",
      "\n",
      "Both countries prioritize inclusiveness and strive to enhance access, skills, and participation in the digital sphere.\n",
      "========================\n",
      "\n",
      "Assistant: Both Switzerland and Singapore place a strong emphasis on inclusiveness in their contributions to the digital realm. Here is a comparison of their efforts:\n",
      "\n",
      "1. Interoperability: Singapore emphasizes the importance of interoperability between different national systems to enable seamless communication and data flow between countries. This promotes inclusiveness by ensuring that digital services can be accessed and utilized across borders. Switzerland also recognizes the need for interoperability and supports initiatives that bridge the digital divide, enabling developing countries to leverage digital technologies and participate in the global economy.\n",
      "\n",
      "2. Digital Skills and Literacy: Singapore places a significant focus on promoting digital skills and literacy for citizens of all ages. They aim to ensure that inclusively designed digital services are accessible to all, regardless of their level of digital proficiency. Switzerland also recognizes the importance of digital literacy and awareness, supporting initiatives that enhance digital skills and knowledge among its population.\n",
      "\n",
      "3. Partnerships: Singapore seeks to establish partnerships with as many countries as possible to enhance inclusivity. By collaborating with other nations, they aim to share best practices, exchange knowledge, and collectively address digital inclusion challenges. Switzerland also emphasizes the participation of all stakeholder groups in governance processes and institutions, fostering collaboration and partnerships to promote inclusiveness.\n",
      "\n",
      "Both Switzerland and Singapore prioritize inclusiveness in their digital strategies, focusing on enhancing access, skills, and participation in the digital sphere. They recognize the importance of bridging the digital divide and ensuring that digital technologies are accessible and beneficial to all individuals and communities.\n",
      "\n"
     ]
    }
   ],
   "source": [
    "diplo_context_agent.chat_repl()"
   ]
  },
  {
   "cell_type": "code",
   "execution_count": null,
   "metadata": {},
   "outputs": [],
   "source": []
  }
 ],
 "metadata": {
  "kernelspec": {
   "display_name": ".venv",
   "language": "python",
   "name": "python3"
  },
  "language_info": {
   "codemirror_mode": {
    "name": "ipython",
    "version": 3
   },
   "file_extension": ".py",
   "mimetype": "text/x-python",
   "name": "python",
   "nbconvert_exporter": "python",
   "pygments_lexer": "ipython3",
   "version": "3.11.4"
  }
 },
 "nbformat": 4,
 "nbformat_minor": 2
}
