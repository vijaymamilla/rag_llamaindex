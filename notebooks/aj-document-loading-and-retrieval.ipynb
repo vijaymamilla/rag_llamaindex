{
 "cells": [
  {
   "cell_type": "markdown",
   "metadata": {},
   "source": [
    "# Document Loading & Retrieval\n",
    "\n",
    "Author: [Abdulazeez Jimoh](https://github.com/abdulazeezoj)\n"
   ]
  },
  {
   "cell_type": "markdown",
   "metadata": {},
   "source": [
    "This implementation is based on:\n",
    "\n",
    "- PyPDF - PDF Document Parsing\n",
    "- Llama Index - Document Loading & Retrieval\n",
    "- Weaviate - Vector Storage\n",
    "- Neo4J - Graph Database\n",
    "- Redis - Ingestion Cache & Document Storage\n",
    "- OpenAI - Large Language Models\n"
   ]
  },
  {
   "cell_type": "code",
   "execution_count": 18,
   "metadata": {},
   "outputs": [],
   "source": [
    "from pprint import pprint\n",
    "\n",
    "from llama_index.embeddings import OpenAIEmbedding\n",
    "from llama_index.indices.knowledge_graph.retrievers import KGRetrieverMode\n",
    "from llama_index.llms import OpenAI\n",
    "from llama_index.response.schema import Response\n",
    "from llama_index.response_synthesizers.type import ResponseMode\n",
    "from llama_index.vector_stores.types import VectorStoreQueryMode\n",
    "\n",
    "from diplodigst.config import DiploConfig\n",
    "from diplodigst.tools import DiploDocLoader, DiploDocRetriever\n",
    "from diplodigst.types import DiploIndex"
   ]
  },
  {
   "cell_type": "code",
   "execution_count": null,
   "metadata": {},
   "outputs": [],
   "source": [
    "diplo_config.model_dump()"
   ]
  },
  {
   "cell_type": "code",
   "execution_count": 14,
   "metadata": {},
   "outputs": [],
   "source": [
    "diplo_config = DiploConfig()"
   ]
  },
  {
   "cell_type": "code",
   "execution_count": 15,
   "metadata": {},
   "outputs": [],
   "source": [
    "# initialise embed model\n",
    "llm_model = OpenAI(api_key=diplo_config.OPENAI_API_KEY)\n",
    "embed_model = OpenAIEmbedding(api_key=diplo_config.OPENAI_API_KEY)"
   ]
  },
  {
   "cell_type": "code",
   "execution_count": 16,
   "metadata": {},
   "outputs": [
    {
     "name": "stdout",
     "output_type": "stream",
     "text": [
      "[ INFO ] Initializing vector store\n",
      "[ INFO ] Vector store initialized\n",
      "[ INFO ] Initializing graph store\n"
     ]
    },
    {
     "ename": "ValueError",
     "evalue": "Error loading graph store: Could not connect to Neo4j database. Please ensure that the username and password are correct",
     "output_type": "error",
     "traceback": [
      "\u001b[0;31m---------------------------------------------------------------------------\u001b[0m",
      "\u001b[0;31mAuthError\u001b[0m                                 Traceback (most recent call last)",
      "File \u001b[0;32m~/llamaindex/ragproject/venv/lib/python3.11/site-packages/llama_index/graph_stores/neo4j.py:56\u001b[0m, in \u001b[0;36mNeo4jGraphStore.__init__\u001b[0;34m(self, username, password, url, database, node_label, **kwargs)\u001b[0m\n\u001b[1;32m     55\u001b[0m \u001b[38;5;28;01mtry\u001b[39;00m:\n\u001b[0;32m---> 56\u001b[0m     \u001b[38;5;28;43mself\u001b[39;49m\u001b[38;5;241;43m.\u001b[39;49m\u001b[43m_driver\u001b[49m\u001b[38;5;241;43m.\u001b[39;49m\u001b[43mverify_connectivity\u001b[49m\u001b[43m(\u001b[49m\u001b[43m)\u001b[49m\n\u001b[1;32m     57\u001b[0m \u001b[38;5;28;01mexcept\u001b[39;00m neo4j\u001b[38;5;241m.\u001b[39mexceptions\u001b[38;5;241m.\u001b[39mServiceUnavailable:\n",
      "File \u001b[0;32m~/llamaindex/ragproject/venv/lib/python3.11/site-packages/neo4j/_sync/driver.py:1007\u001b[0m, in \u001b[0;36mDriver.verify_connectivity\u001b[0;34m(self, **config)\u001b[0m\n\u001b[1;32m   1006\u001b[0m session_config \u001b[38;5;241m=\u001b[39m \u001b[38;5;28mself\u001b[39m\u001b[38;5;241m.\u001b[39m_read_session_config(config)\n\u001b[0;32m-> 1007\u001b[0m \u001b[38;5;28;43mself\u001b[39;49m\u001b[38;5;241;43m.\u001b[39;49m\u001b[43m_get_server_info\u001b[49m\u001b[43m(\u001b[49m\u001b[43msession_config\u001b[49m\u001b[43m)\u001b[49m\n",
      "File \u001b[0;32m~/llamaindex/ragproject/venv/lib/python3.11/site-packages/neo4j/_sync/driver.py:1218\u001b[0m, in \u001b[0;36mDriver._get_server_info\u001b[0;34m(self, session_config)\u001b[0m\n\u001b[1;32m   1217\u001b[0m \u001b[38;5;28;01mwith\u001b[39;00m \u001b[38;5;28mself\u001b[39m\u001b[38;5;241m.\u001b[39m_session(session_config) \u001b[38;5;28;01mas\u001b[39;00m session:\n\u001b[0;32m-> 1218\u001b[0m     \u001b[38;5;28;01mreturn\u001b[39;00m \u001b[43msession\u001b[49m\u001b[38;5;241;43m.\u001b[39;49m\u001b[43m_get_server_info\u001b[49m\u001b[43m(\u001b[49m\u001b[43m)\u001b[49m\n",
      "File \u001b[0;32m~/llamaindex/ragproject/venv/lib/python3.11/site-packages/neo4j/_sync/work/session.py:172\u001b[0m, in \u001b[0;36mSession._get_server_info\u001b[0;34m(self)\u001b[0m\n\u001b[1;32m    171\u001b[0m \u001b[38;5;28;01massert\u001b[39;00m \u001b[38;5;129;01mnot\u001b[39;00m \u001b[38;5;28mself\u001b[39m\u001b[38;5;241m.\u001b[39m_connection\n\u001b[0;32m--> 172\u001b[0m \u001b[38;5;28;43mself\u001b[39;49m\u001b[38;5;241;43m.\u001b[39;49m\u001b[43m_connect\u001b[49m\u001b[43m(\u001b[49m\u001b[43mREAD_ACCESS\u001b[49m\u001b[43m,\u001b[49m\u001b[43m \u001b[49m\u001b[43mliveness_check_timeout\u001b[49m\u001b[38;5;241;43m=\u001b[39;49m\u001b[38;5;241;43m0\u001b[39;49m\u001b[43m)\u001b[49m\n\u001b[1;32m    173\u001b[0m server_info \u001b[38;5;241m=\u001b[39m \u001b[38;5;28mself\u001b[39m\u001b[38;5;241m.\u001b[39m_connection\u001b[38;5;241m.\u001b[39mserver_info\n",
      "File \u001b[0;32m~/llamaindex/ragproject/venv/lib/python3.11/site-packages/neo4j/_sync/work/session.py:130\u001b[0m, in \u001b[0;36mSession._connect\u001b[0;34m(self, access_mode, **acquire_kwargs)\u001b[0m\n\u001b[1;32m    129\u001b[0m \u001b[38;5;28;01mtry\u001b[39;00m:\n\u001b[0;32m--> 130\u001b[0m     \u001b[38;5;28;43msuper\u001b[39;49m\u001b[43m(\u001b[49m\u001b[43m)\u001b[49m\u001b[38;5;241;43m.\u001b[39;49m\u001b[43m_connect\u001b[49m\u001b[43m(\u001b[49m\n\u001b[1;32m    131\u001b[0m \u001b[43m        \u001b[49m\u001b[43maccess_mode\u001b[49m\u001b[43m,\u001b[49m\u001b[43m \u001b[49m\u001b[43mauth\u001b[49m\u001b[38;5;241;43m=\u001b[39;49m\u001b[38;5;28;43mself\u001b[39;49m\u001b[38;5;241;43m.\u001b[39;49m\u001b[43m_config\u001b[49m\u001b[38;5;241;43m.\u001b[39;49m\u001b[43mauth\u001b[49m\u001b[43m,\u001b[49m\u001b[43m \u001b[49m\u001b[38;5;241;43m*\u001b[39;49m\u001b[38;5;241;43m*\u001b[39;49m\u001b[43macquire_kwargs\u001b[49m\n\u001b[1;32m    132\u001b[0m \u001b[43m    \u001b[49m\u001b[43m)\u001b[49m\n\u001b[1;32m    133\u001b[0m \u001b[38;5;28;01mexcept\u001b[39;00m asyncio\u001b[38;5;241m.\u001b[39mCancelledError:\n",
      "File \u001b[0;32m~/llamaindex/ragproject/venv/lib/python3.11/site-packages/neo4j/_sync/work/workspace.py:178\u001b[0m, in \u001b[0;36mWorkspace._connect\u001b[0;34m(self, access_mode, auth, **acquire_kwargs)\u001b[0m\n\u001b[1;32m    177\u001b[0m acquire_kwargs_\u001b[38;5;241m.\u001b[39mupdate(acquire_kwargs)\n\u001b[0;32m--> 178\u001b[0m \u001b[38;5;28mself\u001b[39m\u001b[38;5;241m.\u001b[39m_connection \u001b[38;5;241m=\u001b[39m \u001b[38;5;28;43mself\u001b[39;49m\u001b[38;5;241;43m.\u001b[39;49m\u001b[43m_pool\u001b[49m\u001b[38;5;241;43m.\u001b[39;49m\u001b[43macquire\u001b[49m\u001b[43m(\u001b[49m\u001b[38;5;241;43m*\u001b[39;49m\u001b[38;5;241;43m*\u001b[39;49m\u001b[43macquire_kwargs_\u001b[49m\u001b[43m)\u001b[49m\n\u001b[1;32m    179\u001b[0m \u001b[38;5;28mself\u001b[39m\u001b[38;5;241m.\u001b[39m_connection_access_mode \u001b[38;5;241m=\u001b[39m access_mode\n",
      "File \u001b[0;32m~/llamaindex/ragproject/venv/lib/python3.11/site-packages/neo4j/_sync/io/_pool.py:528\u001b[0m, in \u001b[0;36mBoltPool.acquire\u001b[0;34m(self, access_mode, timeout, database, bookmarks, auth, liveness_check_timeout)\u001b[0m\n\u001b[1;32m    527\u001b[0m deadline \u001b[38;5;241m=\u001b[39m Deadline\u001b[38;5;241m.\u001b[39mfrom_timeout_or_deadline(timeout)\n\u001b[0;32m--> 528\u001b[0m \u001b[38;5;28;01mreturn\u001b[39;00m \u001b[38;5;28;43mself\u001b[39;49m\u001b[38;5;241;43m.\u001b[39;49m\u001b[43m_acquire\u001b[49m\u001b[43m(\u001b[49m\n\u001b[1;32m    529\u001b[0m \u001b[43m    \u001b[49m\u001b[38;5;28;43mself\u001b[39;49m\u001b[38;5;241;43m.\u001b[39;49m\u001b[43maddress\u001b[49m\u001b[43m,\u001b[49m\u001b[43m \u001b[49m\u001b[43mauth\u001b[49m\u001b[43m,\u001b[49m\u001b[43m \u001b[49m\u001b[43mdeadline\u001b[49m\u001b[43m,\u001b[49m\u001b[43m \u001b[49m\u001b[43mliveness_check_timeout\u001b[49m\n\u001b[1;32m    530\u001b[0m \u001b[43m\u001b[49m\u001b[43m)\u001b[49m\n",
      "File \u001b[0;32m~/llamaindex/ragproject/venv/lib/python3.11/site-packages/neo4j/_sync/io/_pool.py:315\u001b[0m, in \u001b[0;36mIOPool._acquire\u001b[0;34m(self, address, auth, deadline, liveness_check_timeout)\u001b[0m\n\u001b[1;32m    314\u001b[0m log\u001b[38;5;241m.\u001b[39mdebug(\u001b[38;5;124m\"\u001b[39m\u001b[38;5;124m[#0000]  _: <POOL> trying to hand out new connection\u001b[39m\u001b[38;5;124m\"\u001b[39m)\n\u001b[0;32m--> 315\u001b[0m \u001b[38;5;28;01mreturn\u001b[39;00m \u001b[43mconnection_creator\u001b[49m\u001b[43m(\u001b[49m\u001b[43m)\u001b[49m\n",
      "File \u001b[0;32m~/llamaindex/ragproject/venv/lib/python3.11/site-packages/neo4j/_sync/io/_pool.py:165\u001b[0m, in \u001b[0;36mIOPool._acquire_new_later.<locals>.connection_creator\u001b[0;34m()\u001b[0m\n\u001b[1;32m    164\u001b[0m \u001b[38;5;28;01mtry\u001b[39;00m:\n\u001b[0;32m--> 165\u001b[0m     connection \u001b[38;5;241m=\u001b[39m \u001b[38;5;28;43mself\u001b[39;49m\u001b[38;5;241;43m.\u001b[39;49m\u001b[43mopener\u001b[49m\u001b[43m(\u001b[49m\n\u001b[1;32m    166\u001b[0m \u001b[43m        \u001b[49m\u001b[43maddress\u001b[49m\u001b[43m,\u001b[49m\u001b[43m \u001b[49m\u001b[43mauth\u001b[49m\u001b[43m \u001b[49m\u001b[38;5;129;43;01mor\u001b[39;49;00m\u001b[43m \u001b[49m\u001b[38;5;28;43mself\u001b[39;49m\u001b[38;5;241;43m.\u001b[39;49m\u001b[43mpool_config\u001b[49m\u001b[38;5;241;43m.\u001b[39;49m\u001b[43mauth\u001b[49m\u001b[43m,\u001b[49m\u001b[43m \u001b[49m\u001b[43mdeadline\u001b[49m\n\u001b[1;32m    167\u001b[0m \u001b[43m    \u001b[49m\u001b[43m)\u001b[49m\n\u001b[1;32m    168\u001b[0m \u001b[38;5;28;01mexcept\u001b[39;00m ServiceUnavailable:\n",
      "File \u001b[0;32m~/llamaindex/ragproject/venv/lib/python3.11/site-packages/neo4j/_sync/io/_pool.py:502\u001b[0m, in \u001b[0;36mBoltPool.open.<locals>.opener\u001b[0;34m(addr, auth_manager, deadline)\u001b[0m\n\u001b[1;32m    501\u001b[0m \u001b[38;5;28;01mdef\u001b[39;00m \u001b[38;5;21mopener\u001b[39m(addr, auth_manager, deadline):\n\u001b[0;32m--> 502\u001b[0m     \u001b[38;5;28;01mreturn\u001b[39;00m \u001b[43mBolt\u001b[49m\u001b[38;5;241;43m.\u001b[39;49m\u001b[43mopen\u001b[49m\u001b[43m(\u001b[49m\n\u001b[1;32m    503\u001b[0m \u001b[43m        \u001b[49m\u001b[43maddr\u001b[49m\u001b[43m,\u001b[49m\u001b[43m \u001b[49m\u001b[43mauth_manager\u001b[49m\u001b[38;5;241;43m=\u001b[39;49m\u001b[43mauth_manager\u001b[49m\u001b[43m,\u001b[49m\u001b[43m \u001b[49m\u001b[43mdeadline\u001b[49m\u001b[38;5;241;43m=\u001b[39;49m\u001b[43mdeadline\u001b[49m\u001b[43m,\u001b[49m\n\u001b[1;32m    504\u001b[0m \u001b[43m        \u001b[49m\u001b[43mrouting_context\u001b[49m\u001b[38;5;241;43m=\u001b[39;49m\u001b[38;5;28;43;01mNone\u001b[39;49;00m\u001b[43m,\u001b[49m\u001b[43m \u001b[49m\u001b[43mpool_config\u001b[49m\u001b[38;5;241;43m=\u001b[39;49m\u001b[43mpool_config\u001b[49m\n\u001b[1;32m    505\u001b[0m \u001b[43m    \u001b[49m\u001b[43m)\u001b[49m\n",
      "File \u001b[0;32m~/llamaindex/ragproject/venv/lib/python3.11/site-packages/neo4j/_sync/io/_bolt.py:487\u001b[0m, in \u001b[0;36mBolt.open\u001b[0;34m(cls, address, auth_manager, deadline, routing_context, pool_config)\u001b[0m\n\u001b[1;32m    486\u001b[0m \u001b[38;5;28;01mtry\u001b[39;00m:\n\u001b[0;32m--> 487\u001b[0m     \u001b[43mconnection\u001b[49m\u001b[38;5;241;43m.\u001b[39;49m\u001b[43mhello\u001b[49m\u001b[43m(\u001b[49m\u001b[43m)\u001b[49m\n\u001b[1;32m    488\u001b[0m \u001b[38;5;28;01mfinally\u001b[39;00m:\n",
      "File \u001b[0;32m~/llamaindex/ragproject/venv/lib/python3.11/site-packages/neo4j/_sync/io/_bolt5.py:574\u001b[0m, in \u001b[0;36mBolt5x2.hello\u001b[0;34m(self, dehydration_hooks, hydration_hooks)\u001b[0m\n\u001b[1;32m    573\u001b[0m \u001b[38;5;28mself\u001b[39m\u001b[38;5;241m.\u001b[39msend_all()\n\u001b[0;32m--> 574\u001b[0m \u001b[38;5;28;43mself\u001b[39;49m\u001b[38;5;241;43m.\u001b[39;49m\u001b[43mfetch_all\u001b[49m\u001b[43m(\u001b[49m\u001b[43m)\u001b[49m\n\u001b[1;32m    575\u001b[0m check_supported_server_product(\u001b[38;5;28mself\u001b[39m\u001b[38;5;241m.\u001b[39mserver_info\u001b[38;5;241m.\u001b[39magent)\n",
      "File \u001b[0;32m~/llamaindex/ragproject/venv/lib/python3.11/site-packages/neo4j/_sync/io/_bolt.py:863\u001b[0m, in \u001b[0;36mBolt.fetch_all\u001b[0;34m(self)\u001b[0m\n\u001b[1;32m    862\u001b[0m \u001b[38;5;28;01mwhile\u001b[39;00m \u001b[38;5;129;01mnot\u001b[39;00m response\u001b[38;5;241m.\u001b[39mcomplete:\n\u001b[0;32m--> 863\u001b[0m     detail_delta, summary_delta \u001b[38;5;241m=\u001b[39m \u001b[38;5;28;43mself\u001b[39;49m\u001b[38;5;241;43m.\u001b[39;49m\u001b[43mfetch_message\u001b[49m\u001b[43m(\u001b[49m\u001b[43m)\u001b[49m\n\u001b[1;32m    864\u001b[0m     detail_count \u001b[38;5;241m+\u001b[39m\u001b[38;5;241m=\u001b[39m detail_delta\n",
      "File \u001b[0;32m~/llamaindex/ragproject/venv/lib/python3.11/site-packages/neo4j/_sync/io/_bolt.py:849\u001b[0m, in \u001b[0;36mBolt.fetch_message\u001b[0;34m(self)\u001b[0m\n\u001b[1;32m    846\u001b[0m tag, fields \u001b[38;5;241m=\u001b[39m \u001b[38;5;28mself\u001b[39m\u001b[38;5;241m.\u001b[39minbox\u001b[38;5;241m.\u001b[39mpop(\n\u001b[1;32m    847\u001b[0m     hydration_hooks\u001b[38;5;241m=\u001b[39m\u001b[38;5;28mself\u001b[39m\u001b[38;5;241m.\u001b[39mresponses[\u001b[38;5;241m0\u001b[39m]\u001b[38;5;241m.\u001b[39mhydration_hooks\n\u001b[1;32m    848\u001b[0m )\n\u001b[0;32m--> 849\u001b[0m res \u001b[38;5;241m=\u001b[39m \u001b[38;5;28;43mself\u001b[39;49m\u001b[38;5;241;43m.\u001b[39;49m\u001b[43m_process_message\u001b[49m\u001b[43m(\u001b[49m\u001b[43mtag\u001b[49m\u001b[43m,\u001b[49m\u001b[43m \u001b[49m\u001b[43mfields\u001b[49m\u001b[43m)\u001b[49m\n\u001b[1;32m    850\u001b[0m \u001b[38;5;28mself\u001b[39m\u001b[38;5;241m.\u001b[39midle_since \u001b[38;5;241m=\u001b[39m monotonic()\n",
      "File \u001b[0;32m~/llamaindex/ragproject/venv/lib/python3.11/site-packages/neo4j/_sync/io/_bolt5.py:369\u001b[0m, in \u001b[0;36mBolt5x0._process_message\u001b[0;34m(self, tag, fields)\u001b[0m\n\u001b[1;32m    368\u001b[0m \u001b[38;5;28;01mtry\u001b[39;00m:\n\u001b[0;32m--> 369\u001b[0m     \u001b[43mresponse\u001b[49m\u001b[38;5;241;43m.\u001b[39;49m\u001b[43mon_failure\u001b[49m\u001b[43m(\u001b[49m\u001b[43msummary_metadata\u001b[49m\u001b[43m \u001b[49m\u001b[38;5;129;43;01mor\u001b[39;49;00m\u001b[43m \u001b[49m\u001b[43m{\u001b[49m\u001b[43m}\u001b[49m\u001b[43m)\u001b[49m\n\u001b[1;32m    370\u001b[0m \u001b[38;5;28;01mexcept\u001b[39;00m (ServiceUnavailable, DatabaseUnavailable):\n",
      "File \u001b[0;32m~/llamaindex/ragproject/venv/lib/python3.11/site-packages/neo4j/_sync/io/_common.py:281\u001b[0m, in \u001b[0;36mLogonResponse.on_failure\u001b[0;34m(self, metadata)\u001b[0m\n\u001b[1;32m    280\u001b[0m Util\u001b[38;5;241m.\u001b[39mcallback(handler)\n\u001b[0;32m--> 281\u001b[0m \u001b[38;5;28;01mraise\u001b[39;00m Neo4jError\u001b[38;5;241m.\u001b[39mhydrate(\u001b[38;5;241m*\u001b[39m\u001b[38;5;241m*\u001b[39mmetadata)\n",
      "\u001b[0;31mAuthError\u001b[0m: {code: Neo.ClientError.Security.Unauthorized} {message: The client is unauthorized due to authentication failure.}",
      "\nDuring handling of the above exception, another exception occurred:\n",
      "\u001b[0;31mValueError\u001b[0m                                Traceback (most recent call last)",
      "File \u001b[0;32m~/llamaindex/ragproject/notebooks/diplodigst/tools.py:435\u001b[0m, in \u001b[0;36mDiploDocLoader._load_graph_store\u001b[0;34m(self, neo4j_host, neo4j_port, neo4j_username, neo4j_password)\u001b[0m\n\u001b[1;32m    434\u001b[0m \u001b[38;5;66;03m# initialize graph store\u001b[39;00m\n\u001b[0;32m--> 435\u001b[0m \u001b[38;5;28mself\u001b[39m\u001b[38;5;241m.\u001b[39m_graph_store \u001b[38;5;241m=\u001b[39m \u001b[43mNeo4jGraphStore\u001b[49m\u001b[43m(\u001b[49m\n\u001b[1;32m    436\u001b[0m \u001b[43m    \u001b[49m\u001b[43musername\u001b[49m\u001b[38;5;241;43m=\u001b[39;49m\u001b[38;5;28;43mself\u001b[39;49m\u001b[38;5;241;43m.\u001b[39;49m\u001b[43m_graph_store_username\u001b[49m\u001b[43m,\u001b[49m\n\u001b[1;32m    437\u001b[0m \u001b[43m    \u001b[49m\u001b[43mpassword\u001b[49m\u001b[38;5;241;43m=\u001b[39;49m\u001b[38;5;28;43mself\u001b[39;49m\u001b[38;5;241;43m.\u001b[39;49m\u001b[43m_graph_store_password\u001b[49m\u001b[43m,\u001b[49m\n\u001b[1;32m    438\u001b[0m \u001b[43m    \u001b[49m\u001b[43murl\u001b[49m\u001b[38;5;241;43m=\u001b[39;49m\u001b[38;5;28;43mself\u001b[39;49m\u001b[38;5;241;43m.\u001b[39;49m\u001b[43m_graph_store_url\u001b[49m\u001b[43m,\u001b[49m\n\u001b[1;32m    439\u001b[0m \u001b[43m    \u001b[49m\u001b[43mdatabase\u001b[49m\u001b[38;5;241;43m=\u001b[39;49m\u001b[38;5;28;43mself\u001b[39;49m\u001b[38;5;241;43m.\u001b[39;49m\u001b[43m_graph_store_name\u001b[49m\u001b[43m,\u001b[49m\n\u001b[1;32m    440\u001b[0m \u001b[43m\u001b[49m\u001b[43m)\u001b[49m\n\u001b[1;32m    442\u001b[0m \u001b[38;5;66;03m# return graph store\u001b[39;00m\n",
      "File \u001b[0;32m~/llamaindex/ragproject/venv/lib/python3.11/site-packages/llama_index/graph_stores/neo4j.py:63\u001b[0m, in \u001b[0;36mNeo4jGraphStore.__init__\u001b[0;34m(self, username, password, url, database, node_label, **kwargs)\u001b[0m\n\u001b[1;32m     62\u001b[0m \u001b[38;5;28;01mexcept\u001b[39;00m neo4j\u001b[38;5;241m.\u001b[39mexceptions\u001b[38;5;241m.\u001b[39mAuthError:\n\u001b[0;32m---> 63\u001b[0m     \u001b[38;5;28;01mraise\u001b[39;00m \u001b[38;5;167;01mValueError\u001b[39;00m(\n\u001b[1;32m     64\u001b[0m         \u001b[38;5;124m\"\u001b[39m\u001b[38;5;124mCould not connect to Neo4j database. \u001b[39m\u001b[38;5;124m\"\u001b[39m\n\u001b[1;32m     65\u001b[0m         \u001b[38;5;124m\"\u001b[39m\u001b[38;5;124mPlease ensure that the username and password are correct\u001b[39m\u001b[38;5;124m\"\u001b[39m\n\u001b[1;32m     66\u001b[0m     )\n\u001b[1;32m     67\u001b[0m \u001b[38;5;66;03m# Set schema\u001b[39;00m\n",
      "\u001b[0;31mValueError\u001b[0m: Could not connect to Neo4j database. Please ensure that the username and password are correct",
      "\nDuring handling of the above exception, another exception occurred:\n",
      "\u001b[0;31mValueError\u001b[0m                                Traceback (most recent call last)",
      "Cell \u001b[0;32mIn[16], line 2\u001b[0m\n\u001b[1;32m      1\u001b[0m \u001b[38;5;66;03m# initialise document loader\u001b[39;00m\n\u001b[0;32m----> 2\u001b[0m doc_loader \u001b[38;5;241m=\u001b[39m \u001b[43mDiploDocLoader\u001b[49m\u001b[43m(\u001b[49m\n\u001b[1;32m      3\u001b[0m \u001b[43m    \u001b[49m\u001b[43membed_model\u001b[49m\u001b[38;5;241;43m=\u001b[39;49m\u001b[43membed_model\u001b[49m\u001b[43m,\u001b[49m\n\u001b[1;32m      4\u001b[0m \u001b[43m    \u001b[49m\u001b[43mllm_model\u001b[49m\u001b[38;5;241;43m=\u001b[39;49m\u001b[43mllm_model\u001b[49m\u001b[43m,\u001b[49m\n\u001b[1;32m      5\u001b[0m \u001b[43m    \u001b[49m\u001b[43mweaviate_host\u001b[49m\u001b[38;5;241;43m=\u001b[39;49m\u001b[43mdiplo_config\u001b[49m\u001b[38;5;241;43m.\u001b[39;49m\u001b[43mWEAVIATE_HOST\u001b[49m\u001b[43m,\u001b[49m\n\u001b[1;32m      6\u001b[0m \u001b[43m    \u001b[49m\u001b[43mweaviate_port\u001b[49m\u001b[38;5;241;43m=\u001b[39;49m\u001b[43mdiplo_config\u001b[49m\u001b[38;5;241;43m.\u001b[39;49m\u001b[43mWEAVIATE_PORT\u001b[49m\u001b[43m,\u001b[49m\n\u001b[1;32m      7\u001b[0m \u001b[43m    \u001b[49m\u001b[43mredis_host\u001b[49m\u001b[38;5;241;43m=\u001b[39;49m\u001b[43mdiplo_config\u001b[49m\u001b[38;5;241;43m.\u001b[39;49m\u001b[43mREDIS_HOST\u001b[49m\u001b[43m,\u001b[49m\n\u001b[1;32m      8\u001b[0m \u001b[43m    \u001b[49m\u001b[43mredis_port\u001b[49m\u001b[38;5;241;43m=\u001b[39;49m\u001b[43mdiplo_config\u001b[49m\u001b[38;5;241;43m.\u001b[39;49m\u001b[43mREDIS_PORT\u001b[49m\u001b[43m,\u001b[49m\n\u001b[1;32m      9\u001b[0m \u001b[43m    \u001b[49m\u001b[43mneo4j_host\u001b[49m\u001b[38;5;241;43m=\u001b[39;49m\u001b[43mdiplo_config\u001b[49m\u001b[38;5;241;43m.\u001b[39;49m\u001b[43mNEO4J_HOST\u001b[49m\u001b[43m,\u001b[49m\n\u001b[1;32m     10\u001b[0m \u001b[43m    \u001b[49m\u001b[43mneo4j_port\u001b[49m\u001b[38;5;241;43m=\u001b[39;49m\u001b[43mdiplo_config\u001b[49m\u001b[38;5;241;43m.\u001b[39;49m\u001b[43mNEO4J_PORT\u001b[49m\u001b[43m,\u001b[49m\n\u001b[1;32m     11\u001b[0m \u001b[43m    \u001b[49m\u001b[43mneo4j_username\u001b[49m\u001b[38;5;241;43m=\u001b[39;49m\u001b[43mdiplo_config\u001b[49m\u001b[38;5;241;43m.\u001b[39;49m\u001b[43mNEO4J_USERNAME\u001b[49m\u001b[43m,\u001b[49m\n\u001b[1;32m     12\u001b[0m \u001b[43m    \u001b[49m\u001b[43mneo4j_password\u001b[49m\u001b[38;5;241;43m=\u001b[39;49m\u001b[43mdiplo_config\u001b[49m\u001b[38;5;241;43m.\u001b[39;49m\u001b[43mNEO4J_PASSWORD\u001b[49m\u001b[43m,\u001b[49m\n\u001b[1;32m     13\u001b[0m \u001b[43m    \u001b[49m\u001b[43mname\u001b[49m\u001b[38;5;241;43m=\u001b[39;49m\u001b[43mdiplo_config\u001b[49m\u001b[38;5;241;43m.\u001b[39;49m\u001b[43mPROJECT_NAME\u001b[49m\u001b[43m,\u001b[49m\n\u001b[1;32m     14\u001b[0m \u001b[43m    \u001b[49m\u001b[43mchunk_size\u001b[49m\u001b[38;5;241;43m=\u001b[39;49m\u001b[38;5;241;43m500\u001b[39;49m\u001b[43m,\u001b[49m\n\u001b[1;32m     15\u001b[0m \u001b[43m    \u001b[49m\u001b[43mchunk_overlap\u001b[49m\u001b[38;5;241;43m=\u001b[39;49m\u001b[38;5;241;43m25\u001b[39;49m\u001b[43m,\u001b[49m\n\u001b[1;32m     16\u001b[0m \u001b[43m    \u001b[49m\u001b[43mverbose\u001b[49m\u001b[38;5;241;43m=\u001b[39;49m\u001b[38;5;28;43;01mTrue\u001b[39;49;00m\u001b[43m,\u001b[49m\n\u001b[1;32m     17\u001b[0m \u001b[43m)\u001b[49m\n",
      "File \u001b[0;32m~/llamaindex/ragproject/notebooks/diplodigst/tools.py:104\u001b[0m, in \u001b[0;36mDiploDocLoader.__init__\u001b[0;34m(self, embed_model, llm_model, weaviate_host, weaviate_port, redis_host, redis_port, neo4j_host, neo4j_port, neo4j_username, neo4j_password, name, chunk_size, chunk_overlap, verbose)\u001b[0m\n\u001b[1;32m    102\u001b[0m \u001b[38;5;28;01mif\u001b[39;00m \u001b[38;5;28mself\u001b[39m\u001b[38;5;241m.\u001b[39m_verbose:\n\u001b[1;32m    103\u001b[0m     \u001b[38;5;28mprint\u001b[39m(\u001b[38;5;124m\"\u001b[39m\u001b[38;5;124m[ INFO ] Initializing graph store\u001b[39m\u001b[38;5;124m\"\u001b[39m)\n\u001b[0;32m--> 104\u001b[0m \u001b[38;5;28;43mself\u001b[39;49m\u001b[38;5;241;43m.\u001b[39;49m\u001b[43m_load_graph_store\u001b[49m\u001b[43m(\u001b[49m\n\u001b[1;32m    105\u001b[0m \u001b[43m    \u001b[49m\u001b[43mneo4j_host\u001b[49m\u001b[38;5;241;43m=\u001b[39;49m\u001b[43mneo4j_host\u001b[49m\u001b[43m,\u001b[49m\n\u001b[1;32m    106\u001b[0m \u001b[43m    \u001b[49m\u001b[43mneo4j_port\u001b[49m\u001b[38;5;241;43m=\u001b[39;49m\u001b[43mneo4j_port\u001b[49m\u001b[43m,\u001b[49m\n\u001b[1;32m    107\u001b[0m \u001b[43m    \u001b[49m\u001b[43mneo4j_username\u001b[49m\u001b[38;5;241;43m=\u001b[39;49m\u001b[43mneo4j_username\u001b[49m\u001b[43m,\u001b[49m\n\u001b[1;32m    108\u001b[0m \u001b[43m    \u001b[49m\u001b[43mneo4j_password\u001b[49m\u001b[38;5;241;43m=\u001b[39;49m\u001b[43mneo4j_password\u001b[49m\u001b[43m,\u001b[49m\n\u001b[1;32m    109\u001b[0m \u001b[43m\u001b[49m\u001b[43m)\u001b[49m\n\u001b[1;32m    110\u001b[0m \u001b[38;5;28;01mif\u001b[39;00m \u001b[38;5;28mself\u001b[39m\u001b[38;5;241m.\u001b[39m_verbose:\n\u001b[1;32m    111\u001b[0m     \u001b[38;5;28mprint\u001b[39m(\u001b[38;5;124m\"\u001b[39m\u001b[38;5;124m[ INFO ] Graph store initialized\u001b[39m\u001b[38;5;124m\"\u001b[39m)\n",
      "File \u001b[0;32m~/llamaindex/ragproject/notebooks/diplodigst/tools.py:445\u001b[0m, in \u001b[0;36mDiploDocLoader._load_graph_store\u001b[0;34m(self, neo4j_host, neo4j_port, neo4j_username, neo4j_password)\u001b[0m\n\u001b[1;32m    443\u001b[0m     \u001b[38;5;28;01mreturn\u001b[39;00m \u001b[38;5;28mself\u001b[39m\u001b[38;5;241m.\u001b[39m_graph_store\n\u001b[1;32m    444\u001b[0m \u001b[38;5;28;01mexcept\u001b[39;00m \u001b[38;5;167;01mException\u001b[39;00m \u001b[38;5;28;01mas\u001b[39;00m e:\n\u001b[0;32m--> 445\u001b[0m     \u001b[38;5;28;01mraise\u001b[39;00m \u001b[38;5;167;01mValueError\u001b[39;00m(\u001b[38;5;124mf\u001b[39m\u001b[38;5;124m\"\u001b[39m\u001b[38;5;124mError loading graph store: \u001b[39m\u001b[38;5;132;01m{\u001b[39;00me\u001b[38;5;132;01m}\u001b[39;00m\u001b[38;5;124m\"\u001b[39m)\n",
      "\u001b[0;31mValueError\u001b[0m: Error loading graph store: Could not connect to Neo4j database. Please ensure that the username and password are correct"
     ]
    }
   ],
   "source": [
    "# initialise document loader\n",
    "doc_loader = DiploDocLoader(\n",
    "    embed_model=embed_model,\n",
    "    llm_model=llm_model,\n",
    "    weaviate_host=diplo_config.WEAVIATE_HOST,\n",
    "    weaviate_port=diplo_config.WEAVIATE_PORT,\n",
    "    redis_host=diplo_config.REDIS_HOST,\n",
    "    redis_port=diplo_config.REDIS_PORT,\n",
    "    neo4j_host=diplo_config.NEO4J_HOST,\n",
    "    neo4j_port=diplo_config.NEO4J_PORT,\n",
    "    neo4j_username=diplo_config.NEO4J_USERNAME,\n",
    "    neo4j_password=diplo_config.NEO4J_PASSWORD,\n",
    "    name=diplo_config.PROJECT_NAME,\n",
    "    chunk_size=500,\n",
    "    chunk_overlap=25,\n",
    "    verbose=True,\n",
    ")"
   ]
  },
  {
   "cell_type": "code",
   "execution_count": 7,
   "metadata": {},
   "outputs": [
    {
     "name": "stdout",
     "output_type": "stream",
     "text": [
      "[ INFO ] Loading documents\n"
     ]
    },
    {
     "name": "stderr",
     "output_type": "stream",
     "text": [
      "Loading files: 100%|██████████| 10/10 [00:05<00:00,  1.74file/s]\n"
     ]
    },
    {
     "name": "stdout",
     "output_type": "stream",
     "text": [
      "[ INFO ] Loaded 114 documents\n",
      "[ INFO ] Running ingestion pipeline\n"
     ]
    },
    {
     "name": "stderr",
     "output_type": "stream",
     "text": [
      "/home/abdulazeez/Devspace/Work/omdena/core-challenge/policy-navigator/src/tasks/task-2-modeling/abdulazeez_sandbox/.venv/lib/python3.11/site-packages/tqdm/auto.py:21: TqdmWarning: IProgress not found. Please update jupyter and ipywidgets. See https://ipywidgets.readthedocs.io/en/stable/user_install.html\n",
      "  from .autonotebook import tqdm as notebook_tqdm\n"
     ]
    },
    {
     "name": "stdout",
     "output_type": "stream",
     "text": [
      "[ INFO ] Ingested 187 nodes\n",
      "[ INFO ] Creating vector index\n"
     ]
    },
    {
     "name": "stderr",
     "output_type": "stream",
     "text": [
      "Generating embeddings: 100%|██████████| 187/187 [00:07<00:00, 26.04it/s]\n"
     ]
    },
    {
     "name": "stdout",
     "output_type": "stream",
     "text": [
      "[ INFO ] Vector index created\n",
      "[ INFO ] Creating knowledge graph index\n"
     ]
    },
    {
     "name": "stderr",
     "output_type": "stream",
     "text": [
      "Processing nodes: 100%|██████████| 187/187 [12:15<00:00,  3.93s/it]\n"
     ]
    },
    {
     "name": "stdout",
     "output_type": "stream",
     "text": [
      "[ INFO ] Knowledge graph index created\n",
      "[ INFO ] Indices created\n"
     ]
    }
   ],
   "source": [
    "# create document index\n",
    "_doc_index: DiploIndex = doc_loader.ingest(\n",
    "    data_path=\"../data/test_docs/\",\n",
    "    filename_as_id=False,\n",
    ")"
   ]
  },
  {
   "cell_type": "code",
   "execution_count": 8,
   "metadata": {},
   "outputs": [
    {
     "name": "stdout",
     "output_type": "stream",
     "text": [
      "[ INFO ] Loading vector index\n",
      "[ INFO ] Vector index loaded\n",
      "[ INFO ] Loading knowledge graph index\n",
      "[ INFO ] Knowledge graph index loaded\n"
     ]
    }
   ],
   "source": [
    "# load documents index\n",
    "doc_index: DiploIndex = doc_loader.load()"
   ]
  },
  {
   "cell_type": "code",
   "execution_count": 9,
   "metadata": {},
   "outputs": [
    {
     "name": "stdout",
     "output_type": "stream",
     "text": [
      "[ INFO ] Initializing vector and graph indices\n",
      "[ INFO ] Vector and graph indices initialized\n",
      "[ INFO ] Initializing vector and graph retrievers\n",
      "[ INFO ] Vector and graph retrievers initialized\n",
      "[ INFO ] Initializing retriever\n",
      "[ INFO ] Retriever initialized\n",
      "[ INFO ] Initializing query engine\n",
      "[ INFO ] Query engine initialized\n"
     ]
    }
   ],
   "source": [
    "# initialise document retriever\n",
    "doc_retriever = DiploDocRetriever(\n",
    "    llm_model=llm_model,\n",
    "    embed_model=embed_model,\n",
    "    doc_index=doc_index,\n",
    "    retriever_mode=\"OR\",\n",
    "    response_mode=ResponseMode.TREE_SUMMARIZE,\n",
    "    vector_query_alpha=0.5,\n",
    "    vector_query_mode=VectorStoreQueryMode.HYBRID,\n",
    "    graph_query_mode=KGRetrieverMode.HYBRID,\n",
    "    verbose=True,\n",
    ")"
   ]
  },
  {
   "cell_type": "code",
   "execution_count": 10,
   "metadata": {},
   "outputs": [
    {
     "name": "stdout",
     "output_type": "stream",
     "text": [
      "[{'doc': 'GDC-submission_Switzerland.pdf', 'page': '5'},\n",
      " {'doc': 'GDC-submission_Switzerland.pdf', 'page': '1'}]\n",
      "(\"Switzerland's contribution to the Global Digital Compact is to support the \"\n",
      " 'efforts to increase accountability for discrimination and misleading '\n",
      " 'content, while protecting human and fundamental rights. Switzerland commits '\n",
      " \"to contribute as a member of the Catalyst Group to UNESCO's efforts for an \"\n",
      " 'Internet for Trust.')\n"
     ]
    }
   ],
   "source": [
    "query = \"What is Switzerland contribution to the global digital compact?\"\n",
    "response: Response = doc_retriever.query(query)\n",
    "pprint(\n",
    "    [\n",
    "        {\"doc\": n.metadata.get(\"file_name\"), \"page\": n.metadata.get(\"page_label\")}\n",
    "        for n in response.source_nodes\n",
    "        if n.metadata.get(\"page_label\") is not None\n",
    "    ]\n",
    ")\n",
    "pprint(response.response)"
   ]
  },
  {
   "cell_type": "code",
   "execution_count": 12,
   "metadata": {},
   "outputs": [
    {
     "name": "stdout",
     "output_type": "stream",
     "text": [
      "[{'doc': 'GDC-submission_Switzerland.pdf', 'page': '5'},\n",
      " {'doc': 'GDC-submission_Switzerland.pdf', 'page': '1'}]\n",
      "('Switzerland commits to support the efforts to increase accountability for '\n",
      " 'discrimination and misleading content, while protecting human and '\n",
      " 'fundamental rights. Switzerland also commits to further supporting the '\n",
      " 'efforts to address connectivity issues, such as through the GIGA Initiative '\n",
      " 'and other efforts undertaken by ITU, UNESCO, and other UN institutions.')\n"
     ]
    }
   ],
   "source": [
    "query = \"What are the commitments of Switzerland to the global digital compact?\"\n",
    "response: Response = doc_retriever.query(query)\n",
    "pprint(\n",
    "    [\n",
    "        {\"doc\": n.metadata.get(\"file_name\"), \"page\": n.metadata.get(\"page_label\")}\n",
    "        for n in response.source_nodes\n",
    "        if n.metadata.get(\"page_label\") is not None\n",
    "    ]\n",
    ")\n",
    "pprint(response.response)"
   ]
  },
  {
   "cell_type": "code",
   "execution_count": 13,
   "metadata": {},
   "outputs": [
    {
     "name": "stdout",
     "output_type": "stream",
     "text": [
      "[{'doc': 'GDC-submission_Republic-of-Singapore.pdf', 'page': '5'},\n",
      " {'doc': 'GDC-submission_Switzerland.pdf', 'page': '1'}]\n",
      "('Singapore and Switzerland both support the inclusion of digital technologies '\n",
      " 'in the global compact. They believe that the starting point for the Global '\n",
      " 'Digital Compact should be digital inclusion and connectivity. They emphasize '\n",
      " 'the importance of providing universal access and connectivity to the '\n",
      " 'internet by 2030. Switzerland also mentions that the Global Digital Compact '\n",
      " 'has the potential to strengthen a principles-based order in the area of '\n",
      " 'digital cooperation. Both countries express their readiness to support the '\n",
      " 'development of the Global Digital Compact and work towards its '\n",
      " 'establishment.')\n"
     ]
    }
   ],
   "source": [
    "query = \"What is Singapore and Switzerland’s position on the inclusion of digital technologies in the global compact?\"\n",
    "response: Response = doc_retriever.query(query)\n",
    "pprint(\n",
    "    [\n",
    "        {\"doc\": n.metadata.get(\"file_name\"), \"page\": n.metadata.get(\"page_label\")}\n",
    "        for n in response.source_nodes\n",
    "        if n.metadata.get(\"page_label\") is not None\n",
    "    ]\n",
    ")\n",
    "pprint(response.response)"
   ]
  },
  {
   "cell_type": "code",
   "execution_count": null,
   "metadata": {},
   "outputs": [],
   "source": []
  }
 ],
 "metadata": {
  "kernelspec": {
   "display_name": ".venv",
   "language": "python",
   "name": "python3"
  },
  "language_info": {
   "codemirror_mode": {
    "name": "ipython",
    "version": 3
   },
   "file_extension": ".py",
   "mimetype": "text/x-python",
   "name": "python",
   "nbconvert_exporter": "python",
   "pygments_lexer": "ipython3",
   "version": "3.11.5"
  }
 },
 "nbformat": 4,
 "nbformat_minor": 2
}
