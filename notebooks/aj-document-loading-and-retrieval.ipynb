{
 "cells": [
  {
   "cell_type": "markdown",
   "metadata": {},
   "source": [
    "# Document Loading & Retrieval\n",
    "\n",
    "Author: [Abdulazeez Jimoh](https://github.com/abdulazeezoj)\n"
   ]
  },
  {
   "cell_type": "markdown",
   "metadata": {},
   "source": [
    "This implementation is based on:\n",
    "\n",
    "- PyPDF - PDF Document Parsing\n",
    "- Llama Index - Document Loading & Retrieval\n",
    "- Weaviate - Vector Storage\n",
    "- Neo4J - Graph Database\n",
    "- Redis - Ingestion Cache & Document Storage\n",
    "- OpenAI - Large Language Models\n"
   ]
  },
  {
   "cell_type": "code",
   "execution_count": 3,
   "metadata": {},
   "outputs": [],
   "source": [
    "from pprint import pprint\n",
    "\n",
    "from llama_index.embeddings import OpenAIEmbedding\n",
    "from llama_index.indices.knowledge_graph.retrievers import KGRetrieverMode\n",
    "from llama_index.llms import OpenAI\n",
    "from llama_index.response.schema import Response\n",
    "from llama_index.response_synthesizers.type import ResponseMode\n",
    "from llama_index.vector_stores.types import VectorStoreQueryMode\n",
    "\n",
    "from diplodigst.config import DiploConfig\n",
    "from diplodigst.tools import DiploDocLoader, DiploDocRetriever\n",
    "from diplodigst.types import DiploIndex"
   ]
  },
  {
   "cell_type": "code",
   "execution_count": 3,
   "metadata": {},
   "outputs": [],
   "source": [
    "diplo_config = DiploConfig()"
   ]
  },
  {
   "cell_type": "code",
   "execution_count": null,
   "metadata": {},
   "outputs": [],
   "source": [
    "diplo_config.model_dump()"
   ]
  },
  {
   "cell_type": "code",
   "execution_count": 5,
   "metadata": {},
   "outputs": [],
   "source": [
    "# initialise embed model\n",
    "llm_model = OpenAI(api_key=diplo_config.OPENAI_API_KEY)\n",
    "embed_model = OpenAIEmbedding(api_key=diplo_config.OPENAI_API_KEY)"
   ]
  },
  {
   "cell_type": "code",
   "execution_count": 6,
   "metadata": {},
   "outputs": [
    {
     "name": "stdout",
     "output_type": "stream",
     "text": [
      "[ INFO ] Initializing vector store\n",
      "[ INFO ] Vector store initialized\n",
      "[ INFO ] Initializing graph store\n",
      "[ INFO ] Graph store initialized\n",
      "[ INFO ] Initializing document store\n",
      "[ INFO ] Document store initialized\n",
      "[ INFO ] Initializing index store\n",
      "[ INFO ] Index store initialized\n",
      "[ INFO ] Initializing ingestion cache\n",
      "[ INFO ] Ingestion cache initialized\n",
      "[ INFO ] Initializing LLM and embedding models\n",
      "[ INFO ] LLM and embedding models initialized\n",
      "[ INFO ] Initializing service context\n",
      "[ INFO ] Service context initialized\n",
      "[ INFO ] Initializing storage context\n",
      "[ INFO ] Storage context initialized\n",
      "[ INFO ] Initializing ingestion pipeline\n",
      "[ INFO ] Ingestion pipeline initialized\n"
     ]
    }
   ],
   "source": [
    "# initialise document loader\n",
    "doc_loader = DiploDocLoader(\n",
    "    embed_model=embed_model,\n",
    "    llm_model=llm_model,\n",
    "    weaviate_host=diplo_config.WEAVIATE_HOST,\n",
    "    weaviate_port=diplo_config.WEAVIATE_PORT,\n",
    "    redis_host=diplo_config.REDIS_HOST,\n",
    "    redis_port=diplo_config.REDIS_PORT,\n",
    "    neo4j_host=diplo_config.NEO4J_HOST,\n",
    "    neo4j_port=diplo_config.NEO4J_PORT,\n",
    "    neo4j_username=diplo_config.NEO4J_USERNAME,\n",
    "    neo4j_password=diplo_config.NEO4J_PASSWORD,\n",
    "    name=diplo_config.PROJECT_NAME,\n",
    "    chunk_size=500,\n",
    "    chunk_overlap=25,\n",
    "    verbose=True,\n",
    ")"
   ]
  },
  {
   "cell_type": "code",
   "execution_count": 7,
   "metadata": {},
   "outputs": [
    {
     "name": "stdout",
     "output_type": "stream",
     "text": [
      "[ INFO ] Loading documents\n"
     ]
    },
    {
     "name": "stderr",
     "output_type": "stream",
     "text": [
      "Loading files: 100%|██████████| 10/10 [00:07<00:00,  1.37file/s]\n"
     ]
    },
    {
     "name": "stdout",
     "output_type": "stream",
     "text": [
      "[ INFO ] Loaded 114 documents\n",
      "[ INFO ] Running ingestion pipeline\n"
     ]
    },
    {
     "name": "stderr",
     "output_type": "stream",
     "text": [
      "/Users/hadoop/llamaindex/ragproject/venv/lib/python3.11/site-packages/tqdm/auto.py:21: TqdmWarning: IProgress not found. Please update jupyter and ipywidgets. See https://ipywidgets.readthedocs.io/en/stable/user_install.html\n",
      "  from .autonotebook import tqdm as notebook_tqdm\n"
     ]
    },
    {
     "name": "stdout",
     "output_type": "stream",
     "text": [
      "[ INFO ] Ingested 187 nodes\n",
      "[ INFO ] Creating vector index\n"
     ]
    },
    {
     "name": "stderr",
     "output_type": "stream",
     "text": [
      "Generating embeddings: 100%|██████████| 187/187 [00:02<00:00, 80.95it/s]\n"
     ]
    },
    {
     "name": "stdout",
     "output_type": "stream",
     "text": [
      "[ INFO ] Vector index created\n",
      "[ INFO ] Creating knowledge graph index\n"
     ]
    },
    {
     "name": "stderr",
     "output_type": "stream",
     "text": [
      "Processing nodes: 100%|██████████| 187/187 [25:10<00:00,  8.08s/it]"
     ]
    },
    {
     "name": "stdout",
     "output_type": "stream",
     "text": [
      "[ INFO ] Knowledge graph index created\n",
      "[ INFO ] Indices created\n"
     ]
    },
    {
     "name": "stderr",
     "output_type": "stream",
     "text": [
      "\n"
     ]
    }
   ],
   "source": [
    "# create document index\n",
    "_doc_index: DiploIndex = doc_loader.ingest(\n",
    "    data_path=\"../data/test_docs/\",\n",
    "    filename_as_id=False,\n",
    ")"
   ]
  },
  {
   "cell_type": "code",
   "execution_count": 8,
   "metadata": {},
   "outputs": [
    {
     "name": "stdout",
     "output_type": "stream",
     "text": [
      "[ INFO ] Loading vector index\n",
      "[ INFO ] Vector index loaded\n",
      "[ INFO ] Loading knowledge graph index\n",
      "[ INFO ] Knowledge graph index loaded\n"
     ]
    }
   ],
   "source": [
    "# load documents index\n",
    "doc_index: DiploIndex = doc_loader.load()"
   ]
  },
  {
   "cell_type": "code",
   "execution_count": 9,
   "metadata": {},
   "outputs": [
    {
     "name": "stdout",
     "output_type": "stream",
     "text": [
      "[ INFO ] Initializing vector and graph indices\n",
      "[ INFO ] Vector and graph indices initialized\n",
      "[ INFO ] Initializing vector and graph retrievers\n",
      "[ INFO ] Vector and graph retrievers initialized\n",
      "[ INFO ] Initializing retriever\n",
      "[ INFO ] Retriever initialized\n",
      "[ INFO ] Initializing query engine\n",
      "[ INFO ] Query engine initialized\n"
     ]
    }
   ],
   "source": [
    "# initialise document retriever\n",
    "doc_retriever = DiploDocRetriever(\n",
    "    llm_model=llm_model,\n",
    "    embed_model=embed_model,\n",
    "    doc_index=doc_index,\n",
    "    retriever_mode=\"OR\",\n",
    "    response_mode=ResponseMode.TREE_SUMMARIZE,\n",
    "    vector_query_alpha=0.5,\n",
    "    vector_query_mode=VectorStoreQueryMode.HYBRID,\n",
    "    graph_query_mode=KGRetrieverMode.HYBRID,\n",
    "    verbose=True,\n",
    ")"
   ]
  },
  {
   "cell_type": "code",
   "execution_count": 15,
   "metadata": {},
   "outputs": [],
   "source": [
    "from IPython.display import Markdown, display"
   ]
  },
  {
   "cell_type": "code",
   "execution_count": 16,
   "metadata": {},
   "outputs": [
    {
     "name": "stdout",
     "output_type": "stream",
     "text": [
      "[{'doc': 'GDC-submission_Switzerland.pdf', 'page': '5'},\n",
      " {'doc': 'GDC-submission_Switzerland.pdf', 'page': '1'}]\n",
      "(\"Switzerland's contribution to the Global Digital Compact is focused on \"\n",
      " 'several areas. They support the implementation of human rights due diligence '\n",
      " 'by technology companies and advocate for effective remedies for individuals '\n",
      " 'and communities exposed to human rights risks. Switzerland also emphasizes '\n",
      " 'the importance of protecting internet freedom and fundamental human rights '\n",
      " 'online. They commit to supporting efforts to increase accountability for '\n",
      " 'discrimination and misleading content, while also protecting human and '\n",
      " 'fundamental rights. Additionally, Switzerland is ready to support the '\n",
      " 'Co-Facilitators of the Global Digital Compact and work towards the '\n",
      " 'establishment of a Geneva-based presence of the Office of the '\n",
      " \"Secretary-General's Envoy on Technology. They believe that an open and \"\n",
      " 'inclusive process, based on existing work streams and fora, is crucial for '\n",
      " 'developing a Global Digital Compact. Switzerland also highlights the '\n",
      " 'relevance of existing agreements, such as those of the World Summit on the '\n",
      " 'Information Society (WSIS), and suggests considering the intersection '\n",
      " \"between digitalization and climate change in the compact's themes. They \"\n",
      " 'propose that the UN Internet Governance Forum (IGF) could offer a platform '\n",
      " 'for periodic discussions and actions related to the follow-up and '\n",
      " 'implementation of the Global Digital Compact.')\n"
     ]
    }
   ],
   "source": [
    "query = \"What is Switzerland contribution to the global digital compact?\"\n",
    "response: Response = doc_retriever.query(query)\n",
    "pprint(\n",
    "    [\n",
    "        {\"doc\": n.metadata.get(\"file_name\"), \"page\": n.metadata.get(\"page_label\")}\n",
    "        for n in response.source_nodes\n",
    "        if n.metadata.get(\"page_label\") is not None\n",
    "    ]\n",
    ")\n",
    "pprint(response.response)"
   ]
  },
  {
   "cell_type": "code",
   "execution_count": 17,
   "metadata": {},
   "outputs": [
    {
     "data": {
      "text/markdown": [
       "<b>Switzerland's contribution to the Global Digital Compact is focused on several areas. They support the implementation of human rights due diligence by technology companies and advocate for effective remedies for individuals and communities exposed to human rights risks. Switzerland also emphasizes the importance of protecting internet freedom and fundamental human rights online. They commit to supporting efforts to increase accountability for discrimination and misleading content, while also protecting human and fundamental rights. Additionally, Switzerland is ready to support the Co-Facilitators of the Global Digital Compact and work towards the establishment of a Geneva-based presence of the Office of the Secretary-General's Envoy on Technology. They believe that an open and inclusive process, based on existing work streams and fora, is crucial for developing a Global Digital Compact. Switzerland also highlights the relevance of existing agreements, such as those of the World Summit on the Information Society (WSIS), and suggests considering the intersection between digitalization and climate change in the compact's themes. They propose that the UN Internet Governance Forum (IGF) could offer a platform for periodic discussions and actions related to the follow-up and implementation of the Global Digital Compact.</b>"
      ],
      "text/plain": [
       "<IPython.core.display.Markdown object>"
      ]
     },
     "metadata": {},
     "output_type": "display_data"
    }
   ],
   "source": [
    "# Display response\n",
    "display(Markdown(f\"<b>{response.response}</b>\"))"
   ]
  },
  {
   "cell_type": "code",
   "execution_count": 11,
   "metadata": {},
   "outputs": [
    {
     "name": "stdout",
     "output_type": "stream",
     "text": [
      "[{'doc': 'GDC-submission_Switzerland.pdf', 'page': '1'},\n",
      " {'doc': 'GDC-submission_Switzerland.pdf', 'page': '1'}]\n",
      "('Switzerland commits to further supporting the efforts to address '\n",
      " 'connectivity issues, such as through the GIGA Initiative and other efforts '\n",
      " 'undertaken by ITU, UNESCO, and other UN institutions. Switzerland also '\n",
      " 'commits to further international discussions and best practice on enabling '\n",
      " 'environments for the deployment of broadband.')\n"
     ]
    }
   ],
   "source": [
    "query = \"What are the commitments of Switzerland to the global digital compact?\"\n",
    "response: Response = doc_retriever.query(query)\n",
    "pprint(\n",
    "    [\n",
    "        {\"doc\": n.metadata.get(\"file_name\"), \"page\": n.metadata.get(\"page_label\")}\n",
    "        for n in response.source_nodes\n",
    "        if n.metadata.get(\"page_label\") is not None\n",
    "    ]\n",
    ")\n",
    "pprint(response.response)"
   ]
  },
  {
   "cell_type": "code",
   "execution_count": 12,
   "metadata": {},
   "outputs": [
    {
     "name": "stdout",
     "output_type": "stream",
     "text": [
      "[{'doc': 'GDC-submission_Republic-of-Singapore.pdf', 'page': '5'},\n",
      " {'doc': 'GDC-submission_Switzerland.pdf', 'page': '1'}]\n",
      "('Singapore and Switzerland both support the inclusion of digital technologies '\n",
      " 'in the global compact. They believe that the starting point for the Global '\n",
      " 'Digital Compact should be digital inclusion and connectivity. They emphasize '\n",
      " 'the importance of providing universal access and connectivity to the '\n",
      " 'internet by 2030. Switzerland specifically mentions that the Global Digital '\n",
      " 'Compact has the potential to strengthen a principles-based order in the area '\n",
      " 'of digital cooperation and that it should build on existing agreements and '\n",
      " 'outcomes of the World Summit on the Information Society. Both countries '\n",
      " 'express their readiness to support the development of the Global Digital '\n",
      " 'Compact and to work towards its implementation.')\n"
     ]
    }
   ],
   "source": [
    "query = \"What is Singapore and Switzerland’s position on the inclusion of digital technologies in the global compact?\"\n",
    "response: Response = doc_retriever.query(query)\n",
    "pprint(\n",
    "    [\n",
    "        {\"doc\": n.metadata.get(\"file_name\"), \"page\": n.metadata.get(\"page_label\")}\n",
    "        for n in response.source_nodes\n",
    "        if n.metadata.get(\"page_label\") is not None\n",
    "    ]\n",
    ")\n",
    "pprint(response.response)"
   ]
  },
  {
   "cell_type": "code",
   "execution_count": 14,
   "metadata": {},
   "outputs": [
    {
     "data": {
      "text/markdown": [
       "<b>Singapore and Switzerland both support the inclusion of digital technologies in the global compact. They believe that the starting point for the Global Digital Compact should be digital inclusion and connectivity. They emphasize the importance of providing universal access and connectivity to the internet by 2030. Switzerland specifically mentions that the Global Digital Compact has the potential to strengthen a principles-based order in the area of digital cooperation and that it should build on existing agreements and outcomes of the World Summit on the Information Society. Both countries express their readiness to support the development of the Global Digital Compact and to work towards its implementation.</b>"
      ],
      "text/plain": [
       "<IPython.core.display.Markdown object>"
      ]
     },
     "metadata": {},
     "output_type": "display_data"
    }
   ],
   "source": [
    "# Display response\n",
    "display(Markdown(f\"<b>{response.response}</b>\"))"
   ]
  }
 ],
 "metadata": {
  "kernelspec": {
   "display_name": ".venv",
   "language": "python",
   "name": "python3"
  },
  "language_info": {
   "codemirror_mode": {
    "name": "ipython",
    "version": 3
   },
   "file_extension": ".py",
   "mimetype": "text/x-python",
   "name": "python",
   "nbconvert_exporter": "python",
   "pygments_lexer": "ipython3",
   "version": "3.11.5"
  }
 },
 "nbformat": 4,
 "nbformat_minor": 2
}
